{
 "cells": [
  {
   "cell_type": "code",
   "execution_count": 1,
   "metadata": {},
   "outputs": [
    {
     "data": {
      "text/html": [
       "<div>\n",
       "<style scoped>\n",
       "    .dataframe tbody tr th:only-of-type {\n",
       "        vertical-align: middle;\n",
       "    }\n",
       "\n",
       "    .dataframe tbody tr th {\n",
       "        vertical-align: top;\n",
       "    }\n",
       "\n",
       "    .dataframe thead th {\n",
       "        text-align: right;\n",
       "    }\n",
       "</style>\n",
       "<table border=\"1\" class=\"dataframe\">\n",
       "  <thead>\n",
       "    <tr style=\"text-align: right;\">\n",
       "      <th></th>\n",
       "      <th>fixed acidity</th>\n",
       "      <th>volatile acidity</th>\n",
       "      <th>citric acid</th>\n",
       "      <th>residual sugar</th>\n",
       "      <th>chlorides</th>\n",
       "      <th>free sulfur dioxide</th>\n",
       "      <th>total sulfur dioxide</th>\n",
       "      <th>density</th>\n",
       "      <th>pH</th>\n",
       "      <th>sulphates</th>\n",
       "      <th>alcohol</th>\n",
       "      <th>quality</th>\n",
       "    </tr>\n",
       "  </thead>\n",
       "  <tbody>\n",
       "    <tr>\n",
       "      <th>0</th>\n",
       "      <td>7.4</td>\n",
       "      <td>0.70</td>\n",
       "      <td>0.00</td>\n",
       "      <td>1.9</td>\n",
       "      <td>0.076</td>\n",
       "      <td>11.0</td>\n",
       "      <td>34.0</td>\n",
       "      <td>0.9978</td>\n",
       "      <td>3.51</td>\n",
       "      <td>0.56</td>\n",
       "      <td>9.4</td>\n",
       "      <td>5</td>\n",
       "    </tr>\n",
       "    <tr>\n",
       "      <th>1</th>\n",
       "      <td>7.8</td>\n",
       "      <td>0.88</td>\n",
       "      <td>0.00</td>\n",
       "      <td>2.6</td>\n",
       "      <td>0.098</td>\n",
       "      <td>25.0</td>\n",
       "      <td>67.0</td>\n",
       "      <td>0.9968</td>\n",
       "      <td>3.20</td>\n",
       "      <td>0.68</td>\n",
       "      <td>9.8</td>\n",
       "      <td>5</td>\n",
       "    </tr>\n",
       "    <tr>\n",
       "      <th>2</th>\n",
       "      <td>7.8</td>\n",
       "      <td>0.76</td>\n",
       "      <td>0.04</td>\n",
       "      <td>2.3</td>\n",
       "      <td>0.092</td>\n",
       "      <td>15.0</td>\n",
       "      <td>54.0</td>\n",
       "      <td>0.9970</td>\n",
       "      <td>3.26</td>\n",
       "      <td>0.65</td>\n",
       "      <td>9.8</td>\n",
       "      <td>5</td>\n",
       "    </tr>\n",
       "    <tr>\n",
       "      <th>3</th>\n",
       "      <td>11.2</td>\n",
       "      <td>0.28</td>\n",
       "      <td>0.56</td>\n",
       "      <td>1.9</td>\n",
       "      <td>0.075</td>\n",
       "      <td>17.0</td>\n",
       "      <td>60.0</td>\n",
       "      <td>0.9980</td>\n",
       "      <td>3.16</td>\n",
       "      <td>0.58</td>\n",
       "      <td>9.8</td>\n",
       "      <td>6</td>\n",
       "    </tr>\n",
       "    <tr>\n",
       "      <th>4</th>\n",
       "      <td>7.4</td>\n",
       "      <td>0.70</td>\n",
       "      <td>0.00</td>\n",
       "      <td>1.9</td>\n",
       "      <td>0.076</td>\n",
       "      <td>11.0</td>\n",
       "      <td>34.0</td>\n",
       "      <td>0.9978</td>\n",
       "      <td>3.51</td>\n",
       "      <td>0.56</td>\n",
       "      <td>9.4</td>\n",
       "      <td>5</td>\n",
       "    </tr>\n",
       "  </tbody>\n",
       "</table>\n",
       "</div>"
      ],
      "text/plain": [
       "   fixed acidity  volatile acidity  citric acid  residual sugar  chlorides  \\\n",
       "0            7.4              0.70         0.00             1.9      0.076   \n",
       "1            7.8              0.88         0.00             2.6      0.098   \n",
       "2            7.8              0.76         0.04             2.3      0.092   \n",
       "3           11.2              0.28         0.56             1.9      0.075   \n",
       "4            7.4              0.70         0.00             1.9      0.076   \n",
       "\n",
       "   free sulfur dioxide  total sulfur dioxide  density    pH  sulphates  \\\n",
       "0                 11.0                  34.0   0.9978  3.51       0.56   \n",
       "1                 25.0                  67.0   0.9968  3.20       0.68   \n",
       "2                 15.0                  54.0   0.9970  3.26       0.65   \n",
       "3                 17.0                  60.0   0.9980  3.16       0.58   \n",
       "4                 11.0                  34.0   0.9978  3.51       0.56   \n",
       "\n",
       "   alcohol  quality  \n",
       "0      9.4        5  \n",
       "1      9.8        5  \n",
       "2      9.8        5  \n",
       "3      9.8        6  \n",
       "4      9.4        5  "
      ]
     },
     "execution_count": 1,
     "metadata": {},
     "output_type": "execute_result"
    }
   ],
   "source": [
    "import pandas as pd\n",
    "df = pd.read_csv('winequality-red.csv')\n",
    "df.head()"
   ]
  },
  {
   "cell_type": "code",
   "execution_count": 2,
   "metadata": {},
   "outputs": [
    {
     "data": {
      "text/plain": [
       "5    681\n",
       "6    638\n",
       "7    199\n",
       "4     53\n",
       "8     18\n",
       "3     10\n",
       "Name: quality, dtype: int64"
      ]
     },
     "execution_count": 2,
     "metadata": {},
     "output_type": "execute_result"
    }
   ],
   "source": [
    "df.quality.value_counts()"
   ]
  },
  {
   "cell_type": "code",
   "execution_count": 3,
   "metadata": {},
   "outputs": [
    {
     "data": {
      "text/plain": [
       "2    681\n",
       "3    638\n",
       "4    199\n",
       "1     53\n",
       "5     18\n",
       "0     10\n",
       "Name: quality, dtype: int64"
      ]
     },
     "execution_count": 3,
     "metadata": {},
     "output_type": "execute_result"
    }
   ],
   "source": [
    "quality_mapping ={\n",
    "    3:0,\n",
    "    4:1,\n",
    "    5:2,\n",
    "    6:3,\n",
    "    7:4,\n",
    "    8:5\n",
    "}\n",
    "df.loc[:,\"quality\"] = df.quality.map(quality_mapping)\n",
    "df.quality.value_counts()"
   ]
  },
  {
   "cell_type": "code",
   "execution_count": 4,
   "metadata": {},
   "outputs": [
    {
     "data": {
      "text/plain": [
       "((1000, 12), (599, 12))"
      ]
     },
     "execution_count": 4,
     "metadata": {},
     "output_type": "execute_result"
    }
   ],
   "source": [
    "#reset the indices\n",
    "df = df.sample(frac=1).reset_index(drop=True)\n",
    "\n",
    "#top 1000 for training\n",
    "#df_training = df.iloc[:1000,:]\n",
    "df_train = df.head(1000)\n",
    "\n",
    "#bottom 599 for testing\n",
    "df_test = df.tail(599)\n",
    "\n",
    "df_train.shape , df_test.shape"
   ]
  },
  {
   "cell_type": "code",
   "execution_count": 5,
   "metadata": {},
   "outputs": [],
   "source": [
    "from sklearn import tree\n",
    "from sklearn import metrics\n",
    "\n",
    "clf = tree.DecisionTreeClassifier(max_depth=3)\n",
    "\n",
    "cols = ['fixed acidity',\n",
    "         'volatile acidity',\n",
    "         'citric acid',\n",
    "        'residual sugar',\n",
    "     'chlorides',\n",
    "     'free sulfur dioxide',\n",
    "     'total sulfur dioxide',\n",
    "     'density',\n",
    "     'pH',\n",
    "     'sulphates',\n",
    "     'alcohol']"
   ]
  },
  {
   "cell_type": "code",
   "execution_count": 6,
   "metadata": {},
   "outputs": [
    {
     "data": {
      "text/plain": [
       "DecisionTreeClassifier(class_weight=None, criterion='gini', max_depth=3,\n",
       "                       max_features=None, max_leaf_nodes=None,\n",
       "                       min_impurity_decrease=0.0, min_impurity_split=None,\n",
       "                       min_samples_leaf=1, min_samples_split=2,\n",
       "                       min_weight_fraction_leaf=0.0, presort=False,\n",
       "                       random_state=None, splitter='best')"
      ]
     },
     "execution_count": 6,
     "metadata": {},
     "output_type": "execute_result"
    }
   ],
   "source": [
    "clf.fit(df_train[cols],df_train.quality)"
   ]
  },
  {
   "cell_type": "code",
   "execution_count": 7,
   "metadata": {},
   "outputs": [
    {
     "name": "stdout",
     "output_type": "stream",
     "text": [
      "train accuracy 0.585\n",
      "testing accuracy 0.5742904841402338\n"
     ]
    }
   ],
   "source": [
    "train_pred = clf.predict(df_train[cols])\n",
    "test_pred = clf.predict(df_test[cols])\n",
    "\n",
    "print(\"train accuracy\",metrics.accuracy_score(train_pred , df_train.quality))\n",
    "\n",
    "print(\"testing accuracy\",metrics.accuracy_score(test_pred , df_test.quality))"
   ]
  },
  {
   "cell_type": "code",
   "execution_count": 8,
   "metadata": {},
   "outputs": [
    {
     "name": "stdout",
     "output_type": "stream",
     "text": [
      "train accuracy 0.765\n",
      "testing accuracy 0.6026711185308848\n"
     ]
    }
   ],
   "source": [
    "clf = tree.DecisionTreeClassifier(max_depth=7)\n",
    "clf.fit(df_train[cols],df_train.quality)\n",
    "\n",
    "train_pred = clf.predict(df_train[cols])\n",
    "test_pred = clf.predict(df_test[cols])\n",
    "\n",
    "print(\"train accuracy\",metrics.accuracy_score(train_pred , df_train.quality))\n",
    "\n",
    "print(\"testing accuracy\",metrics.accuracy_score(test_pred , df_test.quality))"
   ]
  },
  {
   "cell_type": "markdown",
   "metadata": {},
   "source": [
    "# Now do some code"
   ]
  },
  {
   "cell_type": "code",
   "execution_count": 9,
   "metadata": {},
   "outputs": [],
   "source": [
    "import matplotlib\n",
    "import matplotlib.pyplot as plt\n",
    "import seaborn as sns\n",
    "%matplotlib inline"
   ]
  },
  {
   "cell_type": "code",
   "execution_count": 10,
   "metadata": {},
   "outputs": [],
   "source": [
    "#global size for the plot\n",
    "matplotlib.rc('xtick',labelsize=20)\n",
    "matplotlib.rc('ytick',labelsize=20)"
   ]
  },
  {
   "cell_type": "code",
   "execution_count": 11,
   "metadata": {},
   "outputs": [],
   "source": [
    "train_accuracies = [0.5]\n",
    "test_accuracies = [0.5]\n",
    "\n",
    "for i in range(1,25):\n",
    "    clf = tree.DecisionTreeClassifier(max_depth=i)\n",
    "    clf.fit(df_train[cols],df_train.quality)\n",
    "    train_predictions = clf.predict(df_train[cols])\n",
    "    test_predictions = clf.predict(df_test[cols])\n",
    "    \n",
    "    train_accuracy = metrics.accuracy_score(\n",
    "     df_train.quality, train_predictions)\n",
    "    \n",
    "    test_accuracy = metrics.accuracy_score(\n",
    "     df_test.quality, test_predictions)\n",
    "    \n",
    "    train_accuracies.append(train_accuracy)\n",
    "    test_accuracies.append(test_accuracy)"
   ]
  },
  {
   "cell_type": "code",
   "execution_count": 12,
   "metadata": {},
   "outputs": [
    {
     "data": {
      "image/png": "[encoded data removed]",
      "text/plain": [
       "<Figure size 720x360 with 1 Axes>"
      ]
     },
     "metadata": {
      "needs_background": "light"
     },
     "output_type": "display_data"
    }
   ],
   "source": [
    "plt.figure(figsize=(10, 5))\n",
    "sns.set_style(\"whitegrid\")\n",
    "plt.plot(train_accuracies, label=\"train accuracy\")\n",
    "plt.plot(test_accuracies, label=\"test accuracy\")\n",
    "plt.legend(loc=\"upper left\", prop={'size': 15})\n",
    "plt.xticks(range(0, 26, 5))\n",
    "plt.xlabel(\"max_depth\", size=20)\n",
    "plt.ylabel(\"accuracy\", size=20)\n",
    "plt.show()"
   ]
  },
  {
   "cell_type": "markdown",
   "metadata": {},
   "source": [
    "## Now do some cross validation"
   ]
  },
  {
   "cell_type": "code",
   "execution_count": 13,
   "metadata": {},
   "outputs": [],
   "source": [
    "from sklearn import model_selection"
   ]
  },
  {
   "cell_type": "code",
   "execution_count": 15,
   "metadata": {},
   "outputs": [],
   "source": [
    "if __name__ ==\"__main__\":\n",
    "    df = pd.read_csv(\"winequality-red.csv\")\n",
    "    df[\"kfold\"] =-1\n",
    "    df = df.sample(frac=1).reset_index(drop=True)\n",
    "    \n",
    "    kf = model_selection.KFold(n_splits=5)\n",
    "    \n",
    "    for fold , (trn_,val_) in enumerate(kf.split(X=df)):\n",
    "        df.loc[val_,'kfold'] = fold\n",
    "    df.to_csv('kfold_dataset.csv',index=False)"
   ]
  },
  {
   "cell_type": "markdown",
   "metadata": {},
   "source": [
    "## Stratified fold"
   ]
  },
  {
   "cell_type": "code",
   "execution_count": 16,
   "metadata": {},
   "outputs": [],
   "source": [
    "if __name__ ==\"__main__\":\n",
    "    df = pd.read_csv(\"winequality-red.csv\")\n",
    "    df[\"kfold\"] =-1\n",
    "    df = df.sample(frac=1).reset_index(drop=True)\n",
    "    y = df.quality.values\n",
    "    kf = model_selection.StratifiedKFold(n_splits=5)\n",
    "    \n",
    "    for fold , (trn_,val_) in enumerate(kf.split(X=df,y=y)):\n",
    "        df.loc[val_,'kfold'] = fold\n",
    "    df.to_csv('stratifiedfold_dataset.csv',index=False)"
   ]
  },
  {
   "cell_type": "code",
   "execution_count": 17,
   "metadata": {},
   "outputs": [
    {
     "data": {
      "text/plain": [
       "Text(0, 0.5, 'count')"
      ]
     },
     "execution_count": 17,
     "metadata": {},
     "output_type": "execute_result"
    },
    {
     "data": {
      "image/png": "[encoded data removed]",
      "text/plain": [
       "<Figure size 432x288 with 1 Axes>"
      ]
     },
     "metadata": {},
     "output_type": "display_data"
    }
   ],
   "source": [
    "b = sns.countplot(x='quality',data=df)\n",
    "b.set_xlabel('quality',fontsize=20)\n",
    "b.set_ylabel('count',fontsize=20)"
   ]
  },
  {
   "cell_type": "code",
   "execution_count": 19,
   "metadata": {},
   "outputs": [
    {
     "data": {
      "text/plain": [
       "0    322\n",
       "2    321\n",
       "1    321\n",
       "3    318\n",
       "4    317\n",
       "Name: kfold, dtype: int64"
      ]
     },
     "execution_count": 19,
     "metadata": {},
     "output_type": "execute_result"
    }
   ],
   "source": [
    "df.kfold.value_counts()"
   ]
  },
  {
   "cell_type": "code",
   "execution_count": 21,
   "metadata": {},
   "outputs": [
    {
     "data": {
      "text/plain": [
       "((1277, 13), (322, 13))"
      ]
     },
     "execution_count": 21,
     "metadata": {},
     "output_type": "execute_result"
    }
   ],
   "source": [
    "train = df[df['kfold']!=0]\n",
    "val = df[df['kfold']==0]\n",
    "train.shape , val.shape"
   ]
  },
  {
   "cell_type": "code",
   "execution_count": 23,
   "metadata": {},
   "outputs": [
    {
     "data": {
      "text/plain": [
       "5    544\n",
       "6    510\n",
       "7    159\n",
       "4     42\n",
       "8     14\n",
       "3      8\n",
       "Name: quality, dtype: int64"
      ]
     },
     "execution_count": 23,
     "metadata": {},
     "output_type": "execute_result"
    }
   ],
   "source": [
    "train.quality.value_counts()"
   ]
  },
  {
   "cell_type": "code",
   "execution_count": 25,
   "metadata": {},
   "outputs": [
    {
     "name": "stdout",
     "output_type": "stream",
     "text": [
      "fold 1\n",
      "training accuracy 0.8543461237274863\n",
      "validation accuracy 0.6149068322981367\n",
      "fold 2\n",
      "training accuracy 0.8364632237871674\n",
      "validation accuracy 0.6105919003115264\n",
      "fold 3\n",
      "training accuracy 0.8528951486697965\n",
      "validation accuracy 0.616822429906542\n",
      "fold 4\n",
      "training accuracy 0.7985948477751756\n",
      "validation accuracy 0.6509433962264151\n",
      "fold 5\n",
      "training accuracy 0.84399375975039\n",
      "validation accuracy 0.637223974763407\n"
     ]
    }
   ],
   "source": [
    "for i in range(5):\n",
    "    train = df[df['kfold']!=i]\n",
    "    val = df[df['kfold']==i]\n",
    "    clf = tree.DecisionTreeClassifier(max_depth=9)\n",
    "    clf.fit(train[cols],train.quality)\n",
    "    pr = clf.predict(train[cols])\n",
    "    va = clf.predict(val[cols])\n",
    "    print('fold {}'.format(i+1))\n",
    "    print('training accuracy {}'.format(metrics.accuracy_score(pr,\n",
    "                                                train.quality)))\n",
    "    \n",
    "    print('validation accuracy {}'.format(metrics.accuracy_score(va,\n",
    "                                                val.quality)))"
   ]
  },
  {
   "cell_type": "code",
   "execution_count": 27,
   "metadata": {},
   "outputs": [
    {
     "name": "stdout",
     "output_type": "stream",
     "text": [
      "1 of KFold 5\n",
      "validation acc: 0.8535630383711824\n",
      "validation acc: 0.6055900621118012\n",
      "1 of KFold 5\n",
      "validation acc: 0.8364632237871674\n",
      "validation acc: 0.6199376947040498\n",
      "1 of KFold 5\n",
      "validation acc: 0.8536776212832551\n",
      "validation acc: 0.6074766355140186\n",
      "1 of KFold 5\n",
      "validation acc: 0.7985948477751756\n",
      "validation acc: 0.6289308176100629\n",
      "1 of KFold 5\n",
      "validation acc: 0.8416536661466458\n",
      "validation acc: 0.6246056782334385\n"
     ]
    }
   ],
   "source": [
    "kf = model_selection.StratifiedKFold(n_splits=5)\n",
    "pred_test_full =0\n",
    "cv_score =[]\n",
    "i=1\n",
    "X = df[cols]\n",
    "y = df.quality\n",
    "\n",
    "for train_index,test_index in kf.split(X,y):\n",
    "    print('{} of KFold {}'.format(i,kf.n_splits))\n",
    "    xtr,xvl = X.loc[train_index],X.loc[test_index]\n",
    "    ytr,yvl = y.loc[train_index],y.loc[test_index]\n",
    "    \n",
    "    #model\n",
    "    lr = tree.DecisionTreeClassifier(max_depth=9)\n",
    "    lr.fit(xtr,ytr)\n",
    "    sc = metrics.accuracy_score(ytr,lr.predict(xtr))\n",
    "    print('validation acc:',sc)\n",
    "    score = metrics.accuracy_score(yvl,lr.predict(xvl))\n",
    "    print('validation acc:',score)\n",
    "    "
   ]
  },
  {
   "cell_type": "markdown",
   "metadata": {},
   "source": [
    "## stratified kfold for regression"
   ]
  },
  {
   "cell_type": "code",
   "execution_count": 36,
   "metadata": {},
   "outputs": [
    {
     "name": "stderr",
     "output_type": "stream",
     "text": [
      "C:\\Users\\DELL\\Miniconda3\\lib\\site-packages\\sklearn\\model_selection\\_split.py:657: Warning: The least populated class in y has only 2 members, which is too few. The minimum number of members in any class cannot be less than n_splits=5.\n",
      "  % (min_groups, self.n_splits)), Warning)\n"
     ]
    }
   ],
   "source": [
    "import numpy as np\n",
    "import pandas as pd\n",
    "\n",
    "from sklearn import datasets\n",
    "from sklearn import model_selection\n",
    "\n",
    "def create_folds(data):\n",
    "    data['kfold'] = -1\n",
    "    data = data.sample(frac=1).reset_index(drop=True)\n",
    "    num_bins = int(np.floor(1+np.log2(len(data))))\n",
    "    \n",
    "    data.loc[:,\"bins\"] = pd.cut(data[\"target\"],\n",
    "                                bins=num_bins,labels=False)\n",
    "    \n",
    "    kf = model_selection.StratifiedKFold(n_splits=5)\n",
    "    \n",
    "    for f,(t_,v_) in enumerate(kf.split(X=data,\n",
    "                                        y=data.bins.values)):\n",
    "        data.loc[v_,'kfold'] = f\n",
    "    data = data.drop(\"bins\",axis=1)\n",
    "    return data\n",
    "if __name__ ==\"__main__\":\n",
    "    X,y = datasets.make_regression(\n",
    "            n_samples=15000,n_features=100,n_targets=1)\n",
    "    df = pd.DataFrame(X,\n",
    "                columns=[f\"f_{i}\" for i in range(X.shape[1])])\n",
    "    df.loc[:,\"target\"] =y\n",
    "    \n",
    "    df = create_folds(df)"
   ]
  },
  {
   "cell_type": "code",
   "execution_count": null,
   "metadata": {},
   "outputs": [],
   "source": []
  }
 ],
 "metadata": {
  "kernelspec": {
   "display_name": "Python 3",
   "language": "python",
   "name": "python3"
  },
  "language_info": {
   "codemirror_mode": {
    "name": "ipython",
    "version": 3
   },
   "file_extension": ".py",
   "mimetype": "text/x-python",
   "name": "python",
   "nbconvert_exporter": "python",
   "pygments_lexer": "ipython3",
   "version": "3.6.5"
  }
 },
 "nbformat": 4,
 "nbformat_minor": 2
}
